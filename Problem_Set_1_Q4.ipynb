{
 "cells": [
  {
   "cell_type": "code",
   "execution_count": null,
   "id": "9c613e3b",
   "metadata": {},
   "outputs": [],
   "source": [
    "int[] array1 = new int[10];\n",
    "int[] array2 = new int[10];\n",
    "int[] array3 = new int[10];\n",
    "int i, j = 0, k = 0, n;\n",
    "\n",
    "Console.WriteLine(\"\\n======================= Seperating Odd and Even Numbers in Seperate arrays ======================\\n\");\n",
    "Console.Write(\"\\nEnter the number of elements to be stored in the array : \");\n",
    "//Reference to read Int input from user https://stackoverflow.com/questions/24443827/reading-an-integer-from-user-input\n",
    "n = Convert.ToInt32(Console.ReadLine());\n",
    "\n",
    "Console.WriteLine($\"\\nInput {n} elements in the array :\");\n",
    "for (i = 0; i < n; i++)\n",
    "{\n",
    "    Console.Write(\"element - {0} : \", i); \n",
    "    array1[i] = Convert.ToInt32(Console.ReadLine());\n",
    "}\n",
    "\n",
    "//Distinguishing the integers based on Odd or Even\n",
    "for (i = 0; i < n; i++)\n",
    "{\n",
    "    if (array1[i] % 2 == 0)\n",
    "    {\n",
    "        array2[j] = array1[i];\n",
    "        j++;\n",
    "    }\n",
    "    else\n",
    "    {\n",
    "        array3[k] = array1[i];\n",
    "        k++;\n",
    "    }\n",
    "}\n",
    "\n",
    "//Sorting Even Numbers in Even array \n",
    "Console.Write(\"\\nThe elements in Even Array : \\n\");\n",
    "for (i = 0; i < j; i++)\n",
    "{\n",
    "    Console.Write($\"{ array2[i]} \");\n",
    "    \n",
    "}\n",
    "\n",
    "//Sorting Odd Numbers in Odd Array\n",
    "Console.Write(\"\\nThe elements in Odd Array : \\n\");\n",
    "for (i = 0; i < k; i++)\n",
    "{\n",
    "    Console.Write($\"{ array3[i]} \");\n",
    "    \n",
    "}\n",
    "\n",
    "Console.WriteLine();\n",
    "\n"
   ]
  }
 ],
 "metadata": {
  "kernelspec": {
   "display_name": ".NET (C#)",
   "language": "C#",
   "name": ".net-csharp"
  },
  "language_info": {
   "file_extension": ".cs",
   "mimetype": "text/x-csharp",
   "name": "C#",
   "pygments_lexer": "csharp",
   "version": "8.0"
  }
 },
 "nbformat": 4,
 "nbformat_minor": 5
}
