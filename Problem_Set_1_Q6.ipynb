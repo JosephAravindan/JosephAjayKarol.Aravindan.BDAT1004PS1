{
 "cells": [
  {
   "cell_type": "code",
   "execution_count": 2,
   "id": "67342950",
   "metadata": {},
   "outputs": [
    {
     "name": "stdout",
     "output_type": "stream",
     "text": [
      "Enter the word to be translated to Pig Latin :\n",
      "Enter\n",
      "\n",
      "\n",
      "Translated Word in Pig Latin :\n",
      "enterway\n"
     ]
    }
   ],
   "source": [
    "#Get Input from User and declaring vowels\n",
    "Input_from_User = input(\"Enter the word to be translated to Pig Latin :\\n\")\n",
    "vowels = ['a','e','i','o','u']\n",
    "\n",
    "def pig(Input_from_User): \n",
    "    first_word = Input_from_User[0].lower() # Get first letter of input word  and converting it to lower case\n",
    "    \n",
    "# loop if the word is vowel\n",
    "    if first_word in vowels: \n",
    "         Input_from_User = Input_from_User.lower() # convert the word to lower case\n",
    "         Input_from_User += \"way\" \n",
    "         return Input_from_User\n",
    "        \n",
    "#loop if the word is consonant        \n",
    "    else: \n",
    "        Input_from_User = Input_from_User.lower() # convert the word to lower case\n",
    "        Input_from_User = Input_from_User[1:] + Input_from_User[0] + 'ay'\n",
    "        return Input_from_User \n",
    "print(\"\\n\")\n",
    "print(\"Translated Word in Pig Latin :\\n\"+(pig(Input_from_User)))\n"
   ]
  },
  {
   "cell_type": "code",
   "execution_count": null,
   "id": "89cef704",
   "metadata": {},
   "outputs": [],
   "source": []
  }
 ],
 "metadata": {
  "kernelspec": {
   "display_name": "Python 3 (ipykernel)",
   "language": "python",
   "name": "python3"
  },
  "language_info": {
   "codemirror_mode": {
    "name": "ipython",
    "version": 3
   },
   "file_extension": ".py",
   "mimetype": "text/x-python",
   "name": "python",
   "nbconvert_exporter": "python",
   "pygments_lexer": "ipython3",
   "version": "3.9.7"
  }
 },
 "nbformat": 4,
 "nbformat_minor": 5
}
