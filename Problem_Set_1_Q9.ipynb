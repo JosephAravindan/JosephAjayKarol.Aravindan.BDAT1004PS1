{
 "cells": [
  {
   "cell_type": "code",
   "execution_count": null,
   "id": "8bb4d2cf",
   "metadata": {},
   "outputs": [],
   "source": [
    "Trying to add incompatible variables, as in\n",
    "adding 6 + ‘a’\n",
    "Answer : unsupported operand type(s) for +: 'int' and 'str'\n",
    "\n",
    "\n",
    "Referring to the 12th item of a list that has only 10\n",
    "items\n",
    "Answer : string index out of range\n",
    "\n",
    "\n",
    "Using a value that is out of range for a function’s\n",
    "input, such as calling math.sqrt(-1.0)\n",
    "\n",
    "\n",
    "Using an undeclared variable, such as print(x)\n",
    "when x has not been defined\n",
    "Answer : NameError: name 'x' is not defined\n",
    "\n",
    "\n",
    "Trying to open a file that does not exist, such as\n",
    "mistyping the file name or looking in the wrong\n",
    "directory. \n",
    "Answer : FileNotFoundError: [Errno 2] No such file or directory"
   ]
  },
  {
   "cell_type": "code",
   "execution_count": 21,
   "id": "56bb6bae",
   "metadata": {},
   "outputs": [
    {
     "name": "stdout",
     "output_type": "stream",
     "text": [
      "4.0\n"
     ]
    }
   ],
   "source": [
    "import math\n",
    "print (math.sqrt(16))"
   ]
  },
  {
   "cell_type": "code",
   "execution_count": null,
   "id": "15a51bee",
   "metadata": {},
   "outputs": [],
   "source": []
  }
 ],
 "metadata": {
  "kernelspec": {
   "display_name": "Python 3 (ipykernel)",
   "language": "python",
   "name": "python3"
  },
  "language_info": {
   "codemirror_mode": {
    "name": "ipython",
    "version": 3
   },
   "file_extension": ".py",
   "mimetype": "text/x-python",
   "name": "python",
   "nbconvert_exporter": "python",
   "pygments_lexer": "ipython3",
   "version": "3.9.7"
  }
 },
 "nbformat": 4,
 "nbformat_minor": 5
}
