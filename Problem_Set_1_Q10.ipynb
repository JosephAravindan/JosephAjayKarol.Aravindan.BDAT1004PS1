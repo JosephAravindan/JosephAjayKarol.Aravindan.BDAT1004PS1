{
 "cells": [
  {
   "cell_type": "code",
   "execution_count": 17,
   "id": "ee94b2f9",
   "metadata": {},
   "outputs": [
    {
     "name": "stdout",
     "output_type": "stream",
     "text": [
      "Enter the your sentence :\n",
      "The quick red fox got bored and went home.\n",
      "\n",
      "\n",
      "Frequency of letters in the given string :\n",
      "[1, 1, 1, 3, 5, 1, 1, 2, 1, 0, 1, 0, 1, 2, 4, 0, 1, 2, 0, 2, 1, 0, 1, 1, 0, 0]\n"
     ]
    }
   ],
   "source": [
    "user_input = input(\"Enter the your sentence :\\n\")               #Getting the Input string from the user\n",
    "letters = \"abcdefghijklmnopqrstuvwxyz\"                          #Pre-Defined letter formats as per Problem set\n",
    "\n",
    "def frequencies(string):\n",
    "    freq = []                                                   #Listing the input string as single variable\n",
    "    for i in letters:                                           #Indexing the Pre-Defined letters\n",
    "        freq.append(string.count(i))                            #Counting the occurance of the letters                           \n",
    "\n",
    "    return freq\n",
    "\n",
    "out = frequencies(user_input)                                   #Assigning the input from user User_input = string;\n",
    "print(\"\\n\")\n",
    "print(\"Frequency of letters in the given string :\")\n",
    "print(out)"
   ]
  },
  {
   "cell_type": "code",
   "execution_count": null,
   "id": "8693d94a",
   "metadata": {},
   "outputs": [],
   "source": []
  }
 ],
 "metadata": {
  "kernelspec": {
   "display_name": "Python 3 (ipykernel)",
   "language": "python",
   "name": "python3"
  },
  "language_info": {
   "codemirror_mode": {
    "name": "ipython",
    "version": 3
   },
   "file_extension": ".py",
   "mimetype": "text/x-python",
   "name": "python",
   "nbconvert_exporter": "python",
   "pygments_lexer": "ipython3",
   "version": "3.9.7"
  }
 },
 "nbformat": 4,
 "nbformat_minor": 5
}
