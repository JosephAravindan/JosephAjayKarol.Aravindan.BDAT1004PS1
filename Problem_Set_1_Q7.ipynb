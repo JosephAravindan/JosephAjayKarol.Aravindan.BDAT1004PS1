{
 "cells": [
  {
   "cell_type": "code",
   "execution_count": 1,
   "id": "0a2aa9cb",
   "metadata": {},
   "outputs": [
    {
     "name": "stdout",
     "output_type": "stream",
     "text": [
      "Enter the path of your file :\n",
      "C:\\\\Users\\\\josep\\\\Desktop\\\\Georgian Assignments\\\\Sem 1\\\\Data_Programming\\\\Problem_Set_1\\\\bloodtype1.txt\n",
      "\n",
      "\n",
      "There are 13 patients of bloodtype AB.\n",
      "There are 15 patients of bloodtype O.\n",
      "There are 15 patients of bloodtype A.\n",
      "There is one patient of bloodtype B.\n"
     ]
    }
   ],
   "source": [
    "user_input = input(\"Enter the path of your file :\\n\") #Dynamically getting path from user\n",
    "def bldcount(user_input):\n",
    "    file = open(user_input, 'r')                   #defining a path where the text file is saved \n",
    "    content = file.read()                    #reading the content of the text file\n",
    "    file.close()                             #Closing the text file\n",
    "    content = content.split()                #Splitting the string into lists\n",
    "    bloodtype = list(set(content))           #store multiple blood group as string in a single variable \n",
    "    for bl in bloodtype:\n",
    "        if content.count(bl)==0:             #When there are patients with available blood type\n",
    "            print(\"There are no patients of blood type \",bl,'.')\n",
    "        elif content.count(bl)==1:           #When there is one patient with available blood type\n",
    "            print(\"There is one patient of bloodtype {}.\".format(bl))\n",
    "        else:                                #When there are more patients with available blood type\n",
    "            print(\"There are {} patients of bloodtype {}.\".format(content.count(bl), bl))\n",
    "            \n",
    "#Path where the file is stored            \n",
    "print(\"\\n\")\n",
    "bldcount(user_input) "
   ]
  },
  {
   "cell_type": "code",
   "execution_count": null,
   "id": "0f512fcd",
   "metadata": {},
   "outputs": [],
   "source": []
  }
 ],
 "metadata": {
  "kernelspec": {
   "display_name": "Python 3 (ipykernel)",
   "language": "python",
   "name": "python3"
  },
  "language_info": {
   "codemirror_mode": {
    "name": "ipython",
    "version": 3
   },
   "file_extension": ".py",
   "mimetype": "text/x-python",
   "name": "python",
   "nbconvert_exporter": "python",
   "pygments_lexer": "ipython3",
   "version": "3.9.7"
  }
 },
 "nbformat": 4,
 "nbformat_minor": 5
}
