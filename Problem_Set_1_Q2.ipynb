{
 "cells": [
  {
   "cell_type": "code",
   "execution_count": null,
   "id": "4e2fa163",
   "metadata": {},
   "outputs": [],
   "source": [
    "Console.WriteLine(\"\\n======================= Letters In String ======================\\n\");\n",
    "Console.WriteLine(\"Enter your String : \");\n",
    "string UserInput = Console.ReadLine();\n",
    "int result = UserInput.Count(char.IsLetter);\n",
    "Console.WriteLine($\"\\nNumber of Letters in {UserInput} : {result}\");"
   ]
  },
  {
   "cell_type": "code",
   "execution_count": null,
   "id": "0a3b5398",
   "metadata": {},
   "outputs": [],
   "source": [
    "Console.WriteLine(\"\\n======================= Substring Validation ======================\\n\");\n",
    "String substr1 = \"ice\";\n",
    "Console.WriteLine($\"String Entered : {UserInput}\\nSubstring to check : {substr1}\\n\");\n",
    "bool substring_validation = UserInput.Contains(substr1);\n",
    "Console.WriteLine($\"The mentioned substring - {substr1} is available in the string {UserInput} : {substring_validation}\");"
   ]
  },
  {
   "cell_type": "code",
   "execution_count": null,
   "id": "6a866576",
   "metadata": {},
   "outputs": [],
   "source": [
    "Console.WriteLine(\"\\n======================= Which of the following words is the longest ======================\\n\");\n",
    "Console.WriteLine(\"Enter your String to be validated : \");\n",
    "String Longest_String = Console.ReadLine();\n",
    "string[] words = Longest_String.Split(new[] {\",\"}, StringSplitOptions.None);\n",
    "\n",
    "// Since two strings are in same length, Using order by function to sort - Refence used -\n",
    "// https://stackoverflow.com/questions/6167068/sorting-string-array-in-c-sharp\n",
    "\n",
    "Array.Sort(words, StringComparer.InvariantCulture);\n",
    "string word = \"\";\n",
    "int tr = 0;\n",
    "foreach (string s in words)\n",
    "{\n",
    "    if (s.Length > tr)\n",
    "    {\n",
    "        word = s;\n",
    "        tr = s.Length;\n",
    "    }\n",
    "}\n",
    "Console.WriteLine($\"\\nThe Longest word in the mentioned string : \"+word);"
   ]
  },
  {
   "cell_type": "code",
   "execution_count": null,
   "id": "f4aab463",
   "metadata": {},
   "outputs": [],
   "source": [
    "Console.WriteLine(\"\\n======================= First in dictionary ======================\\n\");\n",
    "Console.WriteLine(\"Enter your String to be validated : \");\n",
    "String composor = Console.ReadLine();\n",
    "string[] sorted_composor = composor.Split(new[] { \",\" }, StringSplitOptions.None);\n",
    "var composor1 = sorted_composor.OrderBy(item => item, StringComparer.Ordinal);\n",
    "Console.WriteLine(\"\\nThe Desired order of Composors : \" + string.Join(\", \", composor1));\n",
    "Console.WriteLine(\"\\nThe Composor who comes First as per the dictionary : \" + string.Join(\", \", composor1.First()));\n",
    "Console.WriteLine(\"\\nThe Composor who comes First as per the dictionary : \" + string.Join(\", \", composor1.Last()));"
   ]
  }
 ],
 "metadata": {
  "kernelspec": {
   "display_name": ".NET (C#)",
   "language": "C#",
   "name": ".net-csharp"
  },
  "language_info": {
   "file_extension": ".cs",
   "mimetype": "text/x-csharp",
   "name": "C#",
   "pygments_lexer": "csharp",
   "version": "8.0"
  }
 },
 "nbformat": 4,
 "nbformat_minor": 5
}
