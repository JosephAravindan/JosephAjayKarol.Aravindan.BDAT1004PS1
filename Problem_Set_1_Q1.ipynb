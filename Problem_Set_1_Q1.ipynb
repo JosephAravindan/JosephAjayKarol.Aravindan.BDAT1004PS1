{
 "cells": [
  {
   "cell_type": "code",
   "execution_count": 3,
   "id": "9d7e9acc",
   "metadata": {},
   "outputs": [
    {
     "name": "stdout",
     "output_type": "stream",
     "text": [
      "\n",
      "======================= Data Type of Following ======================\n",
      "\n",
      "The Data Type of given value 5               : System.Int32\n",
      "The Data Type of given value 5.0             : System.Double\n",
      "The Data Type of given value 5 > 1           : System.Boolean\n",
      "The Data Type of given value '5'             : System.Char\n",
      "The Data Type of given value 5 * 2           : System.Int32\n",
      "The Data Type of given value '5' * 2         : System.Int32\n",
      "The Data Type of given value '5' + '2'       : System.Int32\n",
      "The Data Type of given value 5 / 2           : System.Int32\n",
      "The Data Type of given value 5 % 2           : System.Int32\n",
      "The Data Type of given value {5, 2, 1}       : System.ValueTuple`3[System.Int32,System.Int32,System.Int32]\n",
      "The Data Type of given value 5 == 3          : System.Boolean\n",
      "The Data Type of given value Pi (the number) : System.Double\n"
     ]
    }
   ],
   "source": [
    "Console.WriteLine(\"\\n======================= Data Type of Following ======================\\n\");\n",
    "Console.WriteLine(\"The Data Type of given value 5               : \"+(5).GetType());\n",
    "Console.WriteLine(\"The Data Type of given value 5.0             : \"+(5.0).GetType());\n",
    "Console.WriteLine(\"The Data Type of given value 5 > 1           : \"+(5 > 1).GetType());\n",
    "Console.WriteLine(\"The Data Type of given value '5'             : \"+('5').GetType());\n",
    "Console.WriteLine(\"The Data Type of given value 5 * 2           : \"+(5 * 2).GetType());\n",
    "Console.WriteLine(\"The Data Type of given value '5' * 2         : \"+('5' * 2).GetType());\n",
    "Console.WriteLine(\"The Data Type of given value '5' + '2'       : \"+('5' + '2').GetType());\n",
    "Console.WriteLine(\"The Data Type of given value 5 / 2           : \"+(5 / 2).GetType());\n",
    "Console.WriteLine(\"The Data Type of given value 5 % 2           : \"+(5 % 2).GetType());\n",
    "Console.WriteLine(\"The Data Type of given value {5, 2, 1}       : \"+(5, 2, 1).GetType());\n",
    "Console.WriteLine(\"The Data Type of given value 5 == 3          : \"+(5 == 3).GetType());\n",
    "Console.WriteLine(\"The Data Type of given value Pi (the number) : \"+(3.14159265359).GetType());"
   ]
  },
  {
   "cell_type": "code",
   "execution_count": null,
   "id": "3c338f48",
   "metadata": {},
   "outputs": [],
   "source": []
  }
 ],
 "metadata": {
  "kernelspec": {
   "display_name": ".NET (C#)",
   "language": "C#",
   "name": ".net-csharp"
  },
  "language_info": {
   "file_extension": ".cs",
   "mimetype": "text/x-csharp",
   "name": "C#",
   "pygments_lexer": "csharp",
   "version": "8.0"
  }
 },
 "nbformat": 4,
 "nbformat_minor": 5
}
