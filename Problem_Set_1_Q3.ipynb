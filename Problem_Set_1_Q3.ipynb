{
 "cells": [
  {
   "cell_type": "code",
   "execution_count": null,
   "id": "1c9a44a8",
   "metadata": {},
   "outputs": [],
   "source": [
    "Console.Write(\"\\nEnter the Side Lengths of the Triangle : \");\n",
    "var line = Console.ReadLine();\n",
    "var data = line.Split(\",\");\n",
    "var a = int.Parse(data[0]); \n",
    "var b = int.Parse(data[1]);\n",
    "var c = int.Parse(data[2]);\n",
    "float s = (a + b + c) / 2;\n",
    "\n",
    "static float findArea(float a, float b, float c)\n",
    "{\n",
    "    if (a < 0 || b < 0 || c < 0 || (a + b <= c) || a + c <= b || b + c <= a)\n",
    "    {\n",
    "        Console.Write(\"Not a valid triangle\");\n",
    "    }\n",
    "    \n",
    "    float s = (a + b + c) / 2;\n",
    "    return (float)Math.Sqrt(s * (s - a) * (s - b) * (s - c));\n",
    "}\n",
    "\n",
    "Console.Write(\"\\nArea of the Triangle based on the given sides : \" + findArea(a, b, c)+\"\\n\");"
   ]
  }
 ],
 "metadata": {
  "kernelspec": {
   "display_name": ".NET (C#)",
   "language": "C#",
   "name": ".net-csharp"
  },
  "language_info": {
   "file_extension": ".cs",
   "mimetype": "text/x-csharp",
   "name": "C#",
   "pygments_lexer": "csharp",
   "version": "8.0"
  }
 },
 "nbformat": 4,
 "nbformat_minor": 5
}
