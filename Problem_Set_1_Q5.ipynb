{
 "cells": [
  {
   "cell_type": "code",
   "execution_count": null,
   "id": "dba80323",
   "metadata": {},
   "outputs": [],
   "source": [
    "Console.Write(\"\\nEnter the inside plot points : \");\n",
    "var line = Console.ReadLine();\n",
    "var data = line.Split(\",\");\n",
    "float x = float.Parse(data[0]);\n",
    "float y = float.Parse(data[1]);\n",
    "float x1 = float.Parse(data[2]);\n",
    "float y1 = float.Parse(data[3]);\n",
    "float x2 = float.Parse(data[4]);\n",
    "float y2 = float.Parse(data[5]);\n",
    "\n",
    "\n",
    "// function to find if given point lies inside a given rectangle or not.\n",
    "bool Plot_Points(float x, float y, float x1, float y1, float x2, float y2)\n",
    "{\n",
    "    if (x > x1 && x < x2 && y > y1 && y < y2)\n",
    "    return true;\n",
    "\n",
    "    return false;\n",
    "}\n",
    "\n",
    "if (Plot_Points(x, y, x1, y1, x2, y2))\n",
    "    Console.Write(\"\\nThe given plots(x,y) LIES in between the given rectangle corners (x1 y1, x2 y2) - True\\n\");\n",
    "else\n",
    "    Console.Write(\"\\nThe given plots(x,y) DOES NOT LIE in the given rectangle corners (x1 y1, x2 y2) - False\\n\");"
   ]
  }
 ],
 "metadata": {
  "kernelspec": {
   "display_name": ".NET (C#)",
   "language": "C#",
   "name": ".net-csharp"
  },
  "language_info": {
   "file_extension": ".cs",
   "mimetype": "text/x-csharp",
   "name": "C#",
   "pygments_lexer": "csharp",
   "version": "8.0"
  }
 },
 "nbformat": 4,
 "nbformat_minor": 5
}
