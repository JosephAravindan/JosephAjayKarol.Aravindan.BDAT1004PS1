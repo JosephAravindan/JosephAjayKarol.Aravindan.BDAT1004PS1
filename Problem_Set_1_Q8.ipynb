{
 "cells": [
  {
   "cell_type": "code",
   "execution_count": 24,
   "id": "04e46b4b",
   "metadata": {},
   "outputs": [
    {
     "name": "stdout",
     "output_type": "stream",
     "text": [
      "Enter the Currency Code & Amount :\n",
      "JPY,100\n",
      "\n",
      "\n",
      "Converted Value (in USD) :\n",
      "1.241401\n"
     ]
    }
   ],
   "source": [
    "currency, amount = input(\"Enter the Currency Code & Amount :\\n\").split(\",\")   #Getting Input from the user\n",
    "amount = float(amount)                                                #Converting the input string to float for calculation\n",
    "curr_table = open(\"C:\\\\Users\\\\josep\\\\Desktop\\\\Georgian Assignments\\\\Sem 1\\\\Data_Programming\\\\Problem_Set_1\\\\currencies.txt\", 'r')\n",
    "\n",
    "curr_dict = {}\n",
    "for line in curr_table.readlines():\n",
    "    line_elems = line.split()\n",
    "    curr_dict[line_elems[0]] = float(line_elems[1])         #Taking the Currency Code and Amount in array\n",
    "    \n",
    "\n",
    "def curr_conv(curr,amt):                                    #Defining the currency convertor function\n",
    "    amt_usd = amt * curr_dict[curr]                         #Calculating the values based on the conversion referred\n",
    "    print(\"\\n\")\n",
    "    print(\"Converted Value (in USD) :\")\n",
    "    print(amt_usd)\n",
    "\n",
    "curr_conv(currency,amount)                                  #Assigning the input from user Currency = curr; Amount = amt;\n",
    "\n",
    "#https://stackoverflow.com/questions/7637957/reading-space-separated-input-in-python - Referred for getting inputs"
   ]
  },
  {
   "cell_type": "code",
   "execution_count": null,
   "id": "3a130539",
   "metadata": {},
   "outputs": [],
   "source": []
  }
 ],
 "metadata": {
  "kernelspec": {
   "display_name": "Python 3 (ipykernel)",
   "language": "python",
   "name": "python3"
  },
  "language_info": {
   "codemirror_mode": {
    "name": "ipython",
    "version": 3
   },
   "file_extension": ".py",
   "mimetype": "text/x-python",
   "name": "python",
   "nbconvert_exporter": "python",
   "pygments_lexer": "ipython3",
   "version": "3.9.7"
  }
 },
 "nbformat": 4,
 "nbformat_minor": 5
}
